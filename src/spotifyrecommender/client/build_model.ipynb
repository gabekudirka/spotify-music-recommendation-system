{
 "cells": [
  {
   "cell_type": "code",
   "execution_count": 33,
   "source": [
    "import numpy as np\r\n",
    "import pandas as pd\r\n",
    "from sklearn.mixture import GaussianMixture\r\n",
    "from objects.spotify_song_attribute_decoder import TrackAttributeDecoder\r\n",
    "from objects.spotipy_helper import SpotipyHelper"
   ],
   "outputs": [],
   "metadata": {}
  },
  {
   "cell_type": "code",
   "execution_count": 34,
   "source": [
    "track_attributes_decoder = TrackAttributeDecoder()\r\n",
    "track_attributes_decoder.decode_attribute_files(2264)\r\n",
    "tracks = {k: v for k, v in track_attributes_decoder.tracks.items() if v is not None}\r\n",
    "\r\n",
    "spotipy = SpotipyHelper()"
   ],
   "outputs": [
    {
     "output_type": "stream",
     "name": "stdout",
     "text": [
      "2263 attribute files to decode\n",
      "Done decoding 2263 attribute files                                        \n"
     ]
    }
   ],
   "metadata": {}
  },
  {
   "cell_type": "code",
   "execution_count": 35,
   "source": [
    "\r\n",
    "df = pd.DataFrame.from_dict(tracks, orient='index')\r\n",
    "#names = [spotipy.get_track_name(track_id) for track_id in df.index]\r\n",
    "#df['name'] = names\r\n",
    "features_to_use = ['time_signature', 'key', 'mode', 'acousticness', 'danceability', 'energy', 'instrumentalness', 'liveness', 'loudness', 'speechiness', 'valence', 'tempo']\r\n",
    "print(df.shape)"
   ],
   "outputs": [
    {
     "output_type": "stream",
     "name": "stdout",
     "text": [
      "(2262190, 18)\n"
     ]
    }
   ],
   "metadata": {}
  },
  {
   "cell_type": "code",
   "execution_count": 36,
   "source": [
    "gmm = GaussianMixture(n_components=120, covariance_type='diag', random_state=0)\r\n",
    "gmm.fit(df[features_to_use])\r\n"
   ],
   "outputs": [
    {
     "output_type": "execute_result",
     "data": {
      "text/plain": [
       "GaussianMixture(covariance_type='diag', n_components=120, random_state=0)"
      ]
     },
     "metadata": {},
     "execution_count": 36
    }
   ],
   "metadata": {}
  },
  {
   "cell_type": "code",
   "execution_count": 45,
   "source": [
    "labels = gmm.predict(df[features_to_use])\r\n",
    "df['labels'] = labels\r\n",
    "counts = [df[df['labels'] == i].shape[0] for i in range(120)]\r\n",
    "print(df[df['labels'] == 4].shape)\r\n"
   ],
   "outputs": [
    {
     "output_type": "stream",
     "name": "stdout",
     "text": [
      "(9742, 19)\n"
     ]
    }
   ],
   "metadata": {}
  },
  {
   "cell_type": "code",
   "execution_count": 40,
   "source": [
    "print(counts)"
   ],
   "outputs": [
    {
     "output_type": "stream",
     "name": "stdout",
     "text": [
      "[76, 14518, 103412, 14971, 9742, 20495, 2817, 335, 664, 61577, 2749, 1947, 40947, 13764, 16909, 1525, 46824, 5193, 344, 421, 14578, 35, 84070, 123015, 38, 27052, 693, 42301, 19, 454, 6589, 1147, 20633, 35541, 287, 13417, 476, 10711, 189, 492, 1042, 29328, 379, 23264, 657, 870, 68, 27039, 47209, 3592, 51294, 13197, 18705, 805, 221, 74499, 38617, 60924, 36988, 26289, 584, 32138, 20644, 405, 2435, 912, 1245, 16323, 377, 21277, 313, 219, 22803, 62246, 768, 96288, 32741, 33876, 1782, 20821, 651, 32325, 423, 11359, 333, 357, 33868, 17333, 638, 58, 585, 21073, 12595, 8700, 24943, 68505, 72458, 22150, 21352, 1306]\n"
     ]
    }
   ],
   "metadata": {}
  },
  {
   "cell_type": "code",
   "execution_count": 44,
   "source": [
    "import pickle\r\n",
    "with open('./audio_features_gmm.pickle', 'wb') as f:\r\n",
    "    pickle.dump(gmm, f)"
   ],
   "outputs": [],
   "metadata": {}
  },
  {
   "cell_type": "code",
   "execution_count": 46,
   "source": [
    "df.to_csv('./audio_features_with_labels.csv')"
   ],
   "outputs": [],
   "metadata": {}
  },
  {
   "cell_type": "code",
   "execution_count": null,
   "source": [
    "print(df.head())"
   ],
   "outputs": [],
   "metadata": {}
  }
 ],
 "metadata": {
  "orig_nbformat": 4,
  "language_info": {
   "name": "python",
   "version": "3.9.6",
   "mimetype": "text/x-python",
   "codemirror_mode": {
    "name": "ipython",
    "version": 3
   },
   "pygments_lexer": "ipython3",
   "nbconvert_exporter": "python",
   "file_extension": ".py"
  },
  "kernelspec": {
   "name": "python3",
   "display_name": "Python 3.9.6 64-bit ('venv')"
  },
  "interpreter": {
   "hash": "b1e7ee35e227b3a298f3df9b693336f4d2c20765407c4ff56f08a85c5d753c5d"
  }
 },
 "nbformat": 4,
 "nbformat_minor": 2
}